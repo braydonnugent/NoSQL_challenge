{
 "cells": [
  {
   "cell_type": "markdown",
   "id": "9a57c4c6",
   "metadata": {},
   "source": [
    "# Eat Safe, Love"
   ]
  },
  {
   "cell_type": "markdown",
   "id": "064ef857",
   "metadata": {},
   "source": [
    "## Part 1: Database and Jupyter Notebook Set Up"
   ]
  },
  {
   "cell_type": "markdown",
   "id": "664e3c1f",
   "metadata": {},
   "source": [
    "Import the data provided in the `establishments.json` file from your Terminal. Name the database `uk_food` and the collection `establishments`.\n",
    "\n",
    "Within this markdown cell, copy the line of text you used to import the data from your Terminal. This way, future analysts will be able to repeat your process.\n",
    "\n",
    "e.g.: Import the dataset with `YOUR IMPORT TEXT HERE`"
   ]
  },
  {
   "cell_type": "code",
   "execution_count": 224,
   "id": "3ecdd008",
   "metadata": {},
   "outputs": [],
   "source": [
    "# Import dependencies\n",
    "from pymongo import MongoClient\n",
    "from pprint import pprint"
   ]
  },
  {
   "cell_type": "code",
   "execution_count": 225,
   "id": "59390c4a",
   "metadata": {},
   "outputs": [],
   "source": [
    "# Create an instance of MongoClient\n",
    "mongo = MongoClient(port=27017)"
   ]
  },
  {
   "cell_type": "code",
   "execution_count": 226,
   "id": "7f9ececa",
   "metadata": {},
   "outputs": [
    {
     "data": {
      "text/plain": [
       "MongoClient(host=['localhost:27017'], document_class=dict, tz_aware=False, connect=True)"
      ]
     },
     "execution_count": 226,
     "metadata": {},
     "output_type": "execute_result"
    }
   ],
   "source": [
    "# confirm that our new database was created\n",
    "db = mongo\n",
    "db"
   ]
  },
  {
   "cell_type": "code",
   "execution_count": 227,
   "id": "71e373c1",
   "metadata": {},
   "outputs": [],
   "source": [
    "# assign the uk_food database to a variable name\n",
    "db = mongo['uk_food']"
   ]
  },
  {
   "cell_type": "code",
   "execution_count": 228,
   "id": "ef1b89ed",
   "metadata": {},
   "outputs": [
    {
     "data": {
      "text/plain": [
       "['establishments']"
      ]
     },
     "execution_count": 228,
     "metadata": {},
     "output_type": "execute_result"
    }
   ],
   "source": [
    "# review the collections in our new database\n",
    "db.list_collection_names()"
   ]
  },
  {
   "cell_type": "code",
   "execution_count": 229,
   "id": "6a0d92df",
   "metadata": {},
   "outputs": [
    {
     "data": {
      "text/plain": [
       "{'_id': ObjectId('659376e04d99a81833417353'),\n",
       " 'FHRSID': 1043695,\n",
       " 'ChangesByServerID': 0,\n",
       " 'LocalAuthorityBusinessID': 'PI/000073616',\n",
       " 'BusinessName': 'The Pavilion',\n",
       " 'BusinessType': 'Restaurant/Cafe/Canteen',\n",
       " 'BusinessTypeID': 1,\n",
       " 'AddressLine1': 'East Cliff Pavilion',\n",
       " 'AddressLine2': 'Wear Bay Road',\n",
       " 'AddressLine3': 'Folkestone',\n",
       " 'AddressLine4': 'Kent',\n",
       " 'PostCode': 'CT19 6BL',\n",
       " 'Phone': '',\n",
       " 'RatingValue': 5,\n",
       " 'RatingKey': 'fhrs_5_en-gb',\n",
       " 'RatingDate': '2018-04-04T00:00:00',\n",
       " 'LocalAuthorityCode': '188',\n",
       " 'LocalAuthorityName': 'Folkestone and Hythe',\n",
       " 'LocalAuthorityWebSite': 'http://www.folkestone-hythe.gov.uk',\n",
       " 'LocalAuthorityEmailAddress': 'foodteam@folkestone-hythe.gov.uk',\n",
       " 'scores': {'Hygiene': 5, 'Structural': 5, 'ConfidenceInManagement': 5},\n",
       " 'SchemeType': 'FHRS',\n",
       " 'geocode': {'longitude': 1.195625, 'latitude': 51.083812},\n",
       " 'RightToReply': '',\n",
       " 'Distance': 4591.765489457773,\n",
       " 'NewRatingPending': False,\n",
       " 'meta': {'dataSource': None,\n",
       "  'extractDate': '0001-01-01T00:00:00',\n",
       "  'itemCount': 0,\n",
       "  'returncode': None,\n",
       "  'totalCount': 0,\n",
       "  'totalPages': 0,\n",
       "  'pageSize': 0,\n",
       "  'pageNumber': 0},\n",
       " 'links': [{'rel': 'self',\n",
       "   'href': 'https://api.ratings.food.gov.uk/establishments/1043695'}]}"
      ]
     },
     "execution_count": 229,
     "metadata": {},
     "output_type": "execute_result"
    }
   ],
   "source": [
    "# review a document in the establishments collection\n",
    "db['establishments'].find_one()"
   ]
  },
  {
   "cell_type": "code",
   "execution_count": 230,
   "id": "11c9f11b",
   "metadata": {},
   "outputs": [],
   "source": [
    "# assign the collection to a variable\n",
    "review_document = db['establishments'].find_one()"
   ]
  },
  {
   "cell_type": "markdown",
   "id": "d5671434",
   "metadata": {},
   "source": [
    "## Part 2: Update the Database"
   ]
  },
  {
   "cell_type": "markdown",
   "id": "314bd884",
   "metadata": {},
   "source": [
    "1. An exciting new halal restaurant just opened in Greenwich, but hasn't been rated yet. The magazine has asked you to include it in your analysis. Add the following restaurant \"Penang Flavours\" to the database."
   ]
  },
  {
   "cell_type": "code",
   "execution_count": 231,
   "id": "c2da7648",
   "metadata": {},
   "outputs": [],
   "source": [
    "# Create a dictionary for the new restaurant data\n",
    "restaurant_dict = {\n",
    "    'BusinessName': 'Penang Flavours',\n",
    "    'BusinessType': 'Restaurant',\n",
    "    'RatingValue': None\n",
    "}"
   ]
  },
  {
   "cell_type": "code",
   "execution_count": 232,
   "id": "a6e5cece",
   "metadata": {},
   "outputs": [
    {
     "data": {
      "text/plain": [
       "<pymongo.results.InsertOneResult at 0x1b3e95b1180>"
      ]
     },
     "execution_count": 232,
     "metadata": {},
     "output_type": "execute_result"
    }
   ],
   "source": [
    "# Insert the new restaurant into the collection\n",
    "db['establishments'].delete_one(restaurant_dict)\n",
    "db['establishments'].insert_one(restaurant_dict)"
   ]
  },
  {
   "cell_type": "code",
   "execution_count": 233,
   "id": "8eaf3788",
   "metadata": {},
   "outputs": [
    {
     "data": {
      "text/plain": [
       "{'_id': ObjectId('659376e04d99a81833417353'),\n",
       " 'FHRSID': 1043695,\n",
       " 'ChangesByServerID': 0,\n",
       " 'LocalAuthorityBusinessID': 'PI/000073616',\n",
       " 'BusinessName': 'The Pavilion',\n",
       " 'BusinessType': 'Restaurant/Cafe/Canteen',\n",
       " 'BusinessTypeID': 1,\n",
       " 'AddressLine1': 'East Cliff Pavilion',\n",
       " 'AddressLine2': 'Wear Bay Road',\n",
       " 'AddressLine3': 'Folkestone',\n",
       " 'AddressLine4': 'Kent',\n",
       " 'PostCode': 'CT19 6BL',\n",
       " 'Phone': '',\n",
       " 'RatingValue': 5,\n",
       " 'RatingKey': 'fhrs_5_en-gb',\n",
       " 'RatingDate': '2018-04-04T00:00:00',\n",
       " 'LocalAuthorityCode': '188',\n",
       " 'LocalAuthorityName': 'Folkestone and Hythe',\n",
       " 'LocalAuthorityWebSite': 'http://www.folkestone-hythe.gov.uk',\n",
       " 'LocalAuthorityEmailAddress': 'foodteam@folkestone-hythe.gov.uk',\n",
       " 'scores': {'Hygiene': 5, 'Structural': 5, 'ConfidenceInManagement': 5},\n",
       " 'SchemeType': 'FHRS',\n",
       " 'geocode': {'longitude': 1.195625, 'latitude': 51.083812},\n",
       " 'RightToReply': '',\n",
       " 'Distance': 4591.765489457773,\n",
       " 'NewRatingPending': False,\n",
       " 'meta': {'dataSource': None,\n",
       "  'extractDate': '0001-01-01T00:00:00',\n",
       "  'itemCount': 0,\n",
       "  'returncode': None,\n",
       "  'totalCount': 0,\n",
       "  'totalPages': 0,\n",
       "  'pageSize': 0,\n",
       "  'pageNumber': 0},\n",
       " 'links': [{'rel': 'self',\n",
       "   'href': 'https://api.ratings.food.gov.uk/establishments/1043695'}]}"
      ]
     },
     "execution_count": 233,
     "metadata": {},
     "output_type": "execute_result"
    }
   ],
   "source": [
    "db['establishments'].find_one()"
   ]
  },
  {
   "cell_type": "code",
   "execution_count": 234,
   "id": "63bb10f9",
   "metadata": {},
   "outputs": [
    {
     "name": "stdout",
     "output_type": "stream",
     "text": [
      "{'_id': ObjectId('659390de3b88937e4457cf44'), 'BusinessName': 'Penang Flavours', 'BusinessType': 'Restaurant/Cafe/Canteen', 'RatingValue': None, 'BusinessTypeID': 1}\n",
      "{'_id': ObjectId('6593d3a33b88937e4457cf46'), 'BusinessName': 'Penang Flavours', 'BusinessType': 'Restaurant', 'RatingValue': None}\n"
     ]
    }
   ],
   "source": [
    "# Check that the new restaurant was inserted\n",
    "query = {'BusinessName': 'Penang Flavours'}\n",
    "check = db['establishments'].find(query)\n",
    "\n",
    "for document in check:\n",
    "    print(document)"
   ]
  },
  {
   "cell_type": "markdown",
   "id": "0ef4395a",
   "metadata": {},
   "source": [
    "2. Find the BusinessTypeID for \"Restaurant/Cafe/Canteen\" and return only the `BusinessTypeID` and `BusinessType` fields."
   ]
  },
  {
   "cell_type": "code",
   "execution_count": 235,
   "id": "93c63829",
   "metadata": {},
   "outputs": [],
   "source": [
    "# Find the BusinessTypeID for \"Restaurant/Cafe/Canteen\" and return only the BusinessTypeID and BusinessType fields\n",
    "query = {'BusinessType': 'Restaurant/Cafe/Canteen'}\n",
    "check = db['establishments'].find(query).limit(1)\n",
    "\n",
    "for document in check:\n",
    "    business_type_id = document.get('BusinessTypeID')\n",
    "    business_type = document.get('BusinessType')\n"
   ]
  },
  {
   "cell_type": "markdown",
   "id": "4e570caf",
   "metadata": {},
   "source": [
    "3. Update the new restaurant with the `BusinessTypeID` you found."
   ]
  },
  {
   "cell_type": "code",
   "execution_count": 236,
   "id": "7f599f3d",
   "metadata": {},
   "outputs": [
    {
     "data": {
      "text/plain": [
       "<pymongo.results.UpdateResult at 0x1b3eb0709c0>"
      ]
     },
     "execution_count": 236,
     "metadata": {},
     "output_type": "execute_result"
    }
   ],
   "source": [
    "# Update the new restaurant with the correct BusinessTypeID\n",
    "query = {'BusinessName': 'Penang Flavours'}\n",
    "updates = {\n",
    "    '$set': {\n",
    "        \"BusinessName\": \"Penang Flavours\",\n",
    "        \"BusinessType\": \"Restaurant/Cafe/Canteen\",\n",
    "        \"BusinessTypeID\": \"\",\n",
    "        \"AddressLine1\": \"Penang Flavours\",\n",
    "        \"AddressLine2\": \"146A Plumstead Rd\",\n",
    "        \"AddressLine3\": \"London\",\n",
    "        \"AddressLine4\": \"\",\n",
    "        \"PostCode\": \"SE18 7DY\",\n",
    "        \"Phone\": \"\",\n",
    "        \"LocalAuthorityCode\": \"511\",\n",
    "        \"LocalAuthorityName\": \"Greenwich\",\n",
    "        \"LocalAuthorityWebSite\": \"http://www.royalgreenwich.gov.uk\",\n",
    "        \"LocalAuthorityEmailAddress\": \"health@royalgreenwich.gov.uk\",\n",
    "        \"scores\": {\n",
    "            \"Hygiene\": \"\",\n",
    "            \"Structural\": \"\",\n",
    "            \"ConfidenceInManagement\": \"\"\n",
    "        },\n",
    "        \"SchemeType\": \"FHRS\",\n",
    "        \"geocode\": {\n",
    "            \"longitude\": \"0.08384000\",\n",
    "            \"latitude\": \"51.49014200\"\n",
    "        },\n",
    "        \"RightToReply\": \"\",\n",
    "        \"Distance\": 4623.9723280747176,\n",
    "        \"NewRatingPending\": True\n",
    "    }\n",
    "}\n",
    "\n",
    "db['establishments'].update_one(query, updates)\n"
   ]
  },
  {
   "cell_type": "code",
   "execution_count": 237,
   "id": "a6ad16f7",
   "metadata": {},
   "outputs": [
    {
     "name": "stdout",
     "output_type": "stream",
     "text": [
      "{'_id': ObjectId('659390de3b88937e4457cf44'), 'BusinessName': 'Penang Flavours', 'BusinessType': 'Restaurant/Cafe/Canteen', 'RatingValue': None, 'BusinessTypeID': '', 'AddressLine1': 'Penang Flavours', 'AddressLine2': '146A Plumstead Rd', 'AddressLine3': 'London', 'AddressLine4': '', 'Distance': 4623.972328074718, 'LocalAuthorityCode': '511', 'LocalAuthorityEmailAddress': 'health@royalgreenwich.gov.uk', 'LocalAuthorityName': 'Greenwich', 'LocalAuthorityWebSite': 'http://www.royalgreenwich.gov.uk', 'NewRatingPending': True, 'Phone': '', 'PostCode': 'SE18 7DY', 'RightToReply': '', 'SchemeType': 'FHRS', 'geocode': {'longitude': '0.08384000', 'latitude': '51.49014200'}, 'scores': {'Hygiene': '', 'Structural': '', 'ConfidenceInManagement': ''}}\n",
      "{'_id': ObjectId('6593d3a33b88937e4457cf46'), 'BusinessName': 'Penang Flavours', 'BusinessType': 'Restaurant', 'RatingValue': None}\n"
     ]
    }
   ],
   "source": [
    "# Confirm that the new restaurant was updated\n",
    "# Check that the new restaurant was inserted\n",
    "query = {'BusinessName': 'Penang Flavours'}\n",
    "check = db['establishments'].find(query)\n",
    "\n",
    "for document in check:\n",
    "    print(document)"
   ]
  },
  {
   "cell_type": "markdown",
   "id": "67281254",
   "metadata": {},
   "source": [
    "4. The magazine is not interested in any establishments in Dover, so check how many documents contain the Dover Local Authority. Then, remove any establishments within the Dover Local Authority from the database, and check the number of documents to ensure they were deleted."
   ]
  },
  {
   "cell_type": "code",
   "execution_count": 238,
   "id": "768474a6",
   "metadata": {},
   "outputs": [
    {
     "name": "stdout",
     "output_type": "stream",
     "text": [
      "There are 0 establishments containing Dover Local Authority\n"
     ]
    }
   ],
   "source": [
    "# Find how many documents have LocalAuthorityName as \"Dover\"\n",
    "count = 0\n",
    "\n",
    "query = {'LocalAuthorityName': 'Dover'}\n",
    "dover_est = db['establishments'].find(query)\n",
    "\n",
    "for document in dover_est:\n",
    "    count += 1\n",
    "\n",
    "print(f\"There are {count} establishments containing Dover Local Authority\")"
   ]
  },
  {
   "cell_type": "code",
   "execution_count": 239,
   "id": "a11d5f1b",
   "metadata": {},
   "outputs": [
    {
     "data": {
      "text/plain": [
       "<pymongo.results.DeleteResult at 0x1b3ec6d2440>"
      ]
     },
     "execution_count": 239,
     "metadata": {},
     "output_type": "execute_result"
    }
   ],
   "source": [
    "# Delete all documents where LocalAuthorityName is \"Dover\"\n",
    "query = {'LocalAuthorityName': 'Dover'}\n",
    "\n",
    "db['establishments'].delete_many(query)"
   ]
  },
  {
   "cell_type": "code",
   "execution_count": 240,
   "id": "2a51aba0",
   "metadata": {},
   "outputs": [
    {
     "name": "stdout",
     "output_type": "stream",
     "text": [
      "After update, there are now 0 establishments containing Dover Local Authority\n"
     ]
    }
   ],
   "source": [
    "# Check if any remaining documents include Dover\n",
    "count = 0\n",
    "\n",
    "query = {'LocalAuthorityName': 'Dover'}\n",
    "dover_est = db['establishments'].find(query)\n",
    "\n",
    "for document in dover_est:\n",
    "    count += 1\n",
    "\n",
    "print(f\"After update, there are now {count} establishments containing Dover Local Authority\")"
   ]
  },
  {
   "cell_type": "code",
   "execution_count": 241,
   "id": "8c356f7b",
   "metadata": {},
   "outputs": [
    {
     "data": {
      "text/plain": [
       "{'_id': ObjectId('659376e04d99a81833417353'),\n",
       " 'FHRSID': 1043695,\n",
       " 'ChangesByServerID': 0,\n",
       " 'LocalAuthorityBusinessID': 'PI/000073616',\n",
       " 'BusinessName': 'The Pavilion',\n",
       " 'BusinessType': 'Restaurant/Cafe/Canteen',\n",
       " 'BusinessTypeID': 1,\n",
       " 'AddressLine1': 'East Cliff Pavilion',\n",
       " 'AddressLine2': 'Wear Bay Road',\n",
       " 'AddressLine3': 'Folkestone',\n",
       " 'AddressLine4': 'Kent',\n",
       " 'PostCode': 'CT19 6BL',\n",
       " 'Phone': '',\n",
       " 'RatingValue': 5,\n",
       " 'RatingKey': 'fhrs_5_en-gb',\n",
       " 'RatingDate': '2018-04-04T00:00:00',\n",
       " 'LocalAuthorityCode': '188',\n",
       " 'LocalAuthorityName': 'Folkestone and Hythe',\n",
       " 'LocalAuthorityWebSite': 'http://www.folkestone-hythe.gov.uk',\n",
       " 'LocalAuthorityEmailAddress': 'foodteam@folkestone-hythe.gov.uk',\n",
       " 'scores': {'Hygiene': 5, 'Structural': 5, 'ConfidenceInManagement': 5},\n",
       " 'SchemeType': 'FHRS',\n",
       " 'geocode': {'longitude': 1.195625, 'latitude': 51.083812},\n",
       " 'RightToReply': '',\n",
       " 'Distance': 4591.765489457773,\n",
       " 'NewRatingPending': False,\n",
       " 'meta': {'dataSource': None,\n",
       "  'extractDate': '0001-01-01T00:00:00',\n",
       "  'itemCount': 0,\n",
       "  'returncode': None,\n",
       "  'totalCount': 0,\n",
       "  'totalPages': 0,\n",
       "  'pageSize': 0,\n",
       "  'pageNumber': 0},\n",
       " 'links': [{'rel': 'self',\n",
       "   'href': 'https://api.ratings.food.gov.uk/establishments/1043695'}]}"
      ]
     },
     "execution_count": 241,
     "metadata": {},
     "output_type": "execute_result"
    }
   ],
   "source": [
    "# Check that other documents remain with 'find_one'\n",
    "db['establishments'].find_one()"
   ]
  },
  {
   "attachments": {},
   "cell_type": "markdown",
   "id": "e9f1662d",
   "metadata": {},
   "source": [
    "5. Some of the number values are stored as strings, when they should be stored as numbers."
   ]
  },
  {
   "attachments": {},
   "cell_type": "markdown",
   "id": "c46df2df",
   "metadata": {},
   "source": [
    "Use `update_many` to convert `latitude` and `longitude` to decimal numbers."
   ]
  },
  {
   "cell_type": "code",
   "execution_count": 242,
   "id": "fd4112ce",
   "metadata": {},
   "outputs": [
    {
     "data": {
      "text/plain": [
       "<pymongo.results.UpdateResult at 0x1b3e7c30a00>"
      ]
     },
     "execution_count": 242,
     "metadata": {},
     "output_type": "execute_result"
    }
   ],
   "source": [
    "# Change the data type from String to Decimal for longitude and latitude\n",
    "query = {'geocode': {'$exists': True}}\n",
    "\n",
    "db['establishments'].update_many(query, [\n",
    "    {'$set': {'geocode.longitude': {'$toDouble': '$geocode.longitude'}}},\n",
    "    {'$set': {'geocode.latitude': {'$toDouble': '$geocode.latitude'}}}\n",
    "])"
   ]
  },
  {
   "attachments": {},
   "cell_type": "markdown",
   "id": "142e319c",
   "metadata": {},
   "source": [
    "Use `update_many` to convert `RatingValue` to integer numbers."
   ]
  },
  {
   "cell_type": "code",
   "execution_count": 243,
   "id": "04430a5b",
   "metadata": {},
   "outputs": [
    {
     "data": {
      "text/plain": [
       "<pymongo.results.UpdateResult at 0x1b3ed48c4c0>"
      ]
     },
     "execution_count": 243,
     "metadata": {},
     "output_type": "execute_result"
    }
   ],
   "source": [
    "# Set non 1-5 Rating Values to Null\n",
    "non_ratings = [\"AwaitingInspection\", \"Awaiting Inspection\", \"AwaitingPublication\", \"Pass\", \"Exempt\"]\n",
    "db['establishments'].update_many({\"RatingValue\": {\"$in\": non_ratings}}, [ {'$set':{ \"RatingValue\" : None}} ])"
   ]
  },
  {
   "cell_type": "code",
   "execution_count": 244,
   "id": "92524ccc",
   "metadata": {},
   "outputs": [
    {
     "data": {
      "text/plain": [
       "<pymongo.results.UpdateResult at 0x1b3eebd7740>"
      ]
     },
     "execution_count": 244,
     "metadata": {},
     "output_type": "execute_result"
    }
   ],
   "source": [
    "# Change the data type from String to Integer for RatingValue\n",
    "query = {'RatingValue': {'$exists': True}}\n",
    "\n",
    "db['establishments'].update_many(\n",
    "    query,\n",
    "    [{'$set': {'RatingValue': {'$toInt': '$RatingValue'}}}]\n",
    ")"
   ]
  },
  {
   "cell_type": "code",
   "execution_count": 245,
   "id": "0deacaf9",
   "metadata": {},
   "outputs": [
    {
     "name": "stdout",
     "output_type": "stream",
     "text": [
      "Latitude strings count: 0\n",
      "Longitude strings count: 0\n",
      "Rating strings count: 0\n"
     ]
    }
   ],
   "source": [
    "# Check that the coordinates and rating value are now numbers\n",
    "latitude_string_count = db['establishments'].count_documents({'geocode.latitude': {'$type': 'string'}})\n",
    "\n",
    "# Count the documents where geocode.longitude is a string\n",
    "longitude_string_count = db['establishments'].count_documents({'geocode.longitude': {'$type': 'string'}})\n",
    "\n",
    "# Count the documents where RatingValue is a string\n",
    "rating_string_count = db['establishments'].count_documents({'RatingValue': {'$type': 'string'}})\n",
    "\n",
    "print(f\"Latitude strings count: {latitude_string_count}\")\n",
    "print(f\"Longitude strings count: {longitude_string_count}\")\n",
    "print(f\"Rating strings count: {rating_string_count}\")\n"
   ]
  }
 ],
 "metadata": {
  "kernelspec": {
   "display_name": "Python 3 (ipykernel)",
   "language": "python",
   "name": "python3"
  },
  "language_info": {
   "codemirror_mode": {
    "name": "ipython",
    "version": 3
   },
   "file_extension": ".py",
   "mimetype": "text/x-python",
   "name": "python",
   "nbconvert_exporter": "python",
   "pygments_lexer": "ipython3",
   "version": "3.11.5"
  }
 },
 "nbformat": 4,
 "nbformat_minor": 5
}
